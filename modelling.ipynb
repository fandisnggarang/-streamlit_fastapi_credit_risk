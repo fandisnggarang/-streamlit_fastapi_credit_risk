{
 "cells": [
  {
   "cell_type": "code",
   "execution_count": 13,
   "id": "d8f1b47e",
   "metadata": {},
   "outputs": [],
   "source": [
    "from sklearn.ensemble import RandomForestClassifier\n",
    "from sklearn.tree import DecisionTreeClassifier\n",
    "from sklearn.neighbors import KNeighborsClassifier\n",
    "from sklearn.model_selection import GridSearchCV\n",
    "from src import utils\n",
    "import numpy as np"
   ]
  },
  {
   "cell_type": "code",
   "execution_count": 14,
   "id": "b96c65a5",
   "metadata": {},
   "outputs": [],
   "source": [
    "# Buat akses menuju data latih\n",
    "X_train_data_path = './data/processed/X_train_ros.pkl'\n",
    "y_train_data_path = './data/processed/y_train_ros.pkl' \n",
    "\n",
    "# Panggil fungsi deserialisasi untuk menampilkan data latih\n",
    "X_train_clean = utils.deserialize_data(X_train_data_path)\n",
    "y_train_clean = utils.deserialize_data(y_train_data_path)"
   ]
  },
  {
   "cell_type": "code",
   "execution_count": 15,
   "id": "c974a293",
   "metadata": {
    "scrolled": true
   },
   "outputs": [
    {
     "name": "stdout",
     "output_type": "stream",
     "text": [
      "Fitting 5 folds for each of 6 candidates, totalling 30 fits\n",
      "Fitting 5 folds for each of 8 candidates, totalling 40 fits\n",
      "Fitting 5 folds for each of 32 candidates, totalling 160 fits\n"
     ]
    }
   ],
   "source": [
    "import warnings\n",
    "\n",
    "# Atasi warnings\n",
    "warnings.filterwarnings(action='ignore', category=UserWarning, module='sklearn')\n",
    "\n",
    "# Atur hyperparameters untuk setiap model\n",
    "param_grid_rf = {\n",
    "    'n_estimators': [50, 100],\n",
    "    'max_depth'   : [None, 10, 20]\n",
    "}\n",
    "\n",
    "param_grid_dt = {\n",
    "    'max_depth'        : [4, 6],\n",
    "    'min_samples_split': [10, 15],\n",
    "    'min_samples_leaf' : [2, 4]\n",
    "}\n",
    "\n",
    "param_grid_knn = {\n",
    "    'n_neighbors': [3, 5, 7, 9],\n",
    "    'weights'    : ['uniform', 'distance'],\n",
    "    'algorithm'  : ['auto', 'ball_tree', 'kd_tree', 'brute']\n",
    "}\n",
    "\n",
    "# Buat model instance\n",
    "models = {\n",
    "    'RandomForest'      : RandomForestClassifier(n_jobs=-1),\n",
    "    'DecisionTree'      : DecisionTreeClassifier(),\n",
    "    'KNN'               : KNeighborsClassifier()\n",
    "}\n",
    "\n",
    "# Buat Hyperparameter instance\n",
    "param_grids = {\n",
    "    'RandomForest': param_grid_rf,\n",
    "    'DecisionTree': param_grid_dt,\n",
    "    'KNN'         : param_grid_knn\n",
    "}\n",
    "\n",
    "def train_model(model, param_grid, X, y):\n",
    "    \"\"\"\n",
    "    Melatih model dengan menyetel hyperparameter.\n",
    "\n",
    "    Parameter\n",
    "    model (sklearn estimator) : Model pembelajaran mesin yang akan dilatih.\n",
    "    param_grid (dict)         : Grid hyperparameter untuk penyetelan.\n",
    "    X (numpy.ndarray)         : Fitur data latih.\n",
    "    y (numpy.ndarray)         : Target data latih.\n",
    "\n",
    "    Return\n",
    "    best_model                : Model terbaik untuk setiap algoritma setelah pelatihan.\n",
    "    \"\"\"\n",
    "\n",
    "    grid_search = GridSearchCV(estimator=model, param_grid=param_grid, n_jobs=-1, verbose=3)\n",
    "    grid_search.fit(X, y)\n",
    "    best_model = grid_search.best_estimator_\n",
    "    return best_model\n",
    "\n",
    "trained_rfo = train_model(models['RandomForest'], param_grids['RandomForest'], X_train_clean, y_train_clean)\n",
    "trained_dtr = train_model(models['DecisionTree'], param_grids['DecisionTree'], X_train_clean, y_train_clean)\n",
    "trained_knn = train_model(models['KNN'], param_grids['KNN'], X_train_clean, y_train_clean)\n",
    "\n",
    "    \n"
   ]
  },
  {
   "cell_type": "code",
   "execution_count": 16,
   "id": "96b87f71",
   "metadata": {},
   "outputs": [
    {
     "data": {
      "text/plain": [
       "['models/trained_RandomForest.pkl']"
      ]
     },
     "execution_count": 16,
     "metadata": {},
     "output_type": "execute_result"
    }
   ],
   "source": [
    "# Simpan model yang sudah dilatih\n",
    "utils.serialize_data(trained_rfo, 'models/trained_RandomForest.pkl')\n"
   ]
  },
  {
   "cell_type": "code",
   "execution_count": 17,
   "id": "e01caef7",
   "metadata": {},
   "outputs": [
    {
     "data": {
      "text/plain": [
       "['models/trained_DecisionTree.pkl']"
      ]
     },
     "execution_count": 17,
     "metadata": {},
     "output_type": "execute_result"
    }
   ],
   "source": [
    "utils.serialize_data(trained_dtr, 'models/trained_DecisionTree.pkl')"
   ]
  },
  {
   "cell_type": "code",
   "execution_count": 18,
   "id": "c760ec69",
   "metadata": {},
   "outputs": [
    {
     "data": {
      "text/plain": [
       "['models/trained_KNearestNeighbor.pkl']"
      ]
     },
     "execution_count": 18,
     "metadata": {},
     "output_type": "execute_result"
    }
   ],
   "source": [
    "utils.serialize_data(trained_knn, 'models/trained_KNearestNeighbor.pkl')"
   ]
  }
 ],
 "metadata": {
  "kernelspec": {
   "display_name": "Python 3 (ipykernel)",
   "language": "python",
   "name": "python3"
  },
  "language_info": {
   "codemirror_mode": {
    "name": "ipython",
    "version": 3
   },
   "file_extension": ".py",
   "mimetype": "text/x-python",
   "name": "python",
   "nbconvert_exporter": "python",
   "pygments_lexer": "ipython3",
   "version": "3.11.5"
  }
 },
 "nbformat": 4,
 "nbformat_minor": 5
}
