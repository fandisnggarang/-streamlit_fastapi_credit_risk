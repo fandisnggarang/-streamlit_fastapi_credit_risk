{
 "cells": [
  {
   "cell_type": "code",
   "execution_count": 1,
   "metadata": {},
   "outputs": [
    {
     "name": "stdout",
     "output_type": "stream",
     "text": [
      "Data Shape: (32581, 12)\n"
     ]
    },
    {
     "data": {
      "text/html": [
       "<div>\n",
       "<style scoped>\n",
       "    .dataframe tbody tr th:only-of-type {\n",
       "        vertical-align: middle;\n",
       "    }\n",
       "\n",
       "    .dataframe tbody tr th {\n",
       "        vertical-align: top;\n",
       "    }\n",
       "\n",
       "    .dataframe thead th {\n",
       "        text-align: right;\n",
       "    }\n",
       "</style>\n",
       "<table border=\"1\" class=\"dataframe\">\n",
       "  <thead>\n",
       "    <tr style=\"text-align: right;\">\n",
       "      <th></th>\n",
       "      <th>person_age</th>\n",
       "      <th>person_income</th>\n",
       "      <th>person_home_ownership</th>\n",
       "      <th>person_emp_length</th>\n",
       "      <th>loan_intent</th>\n",
       "      <th>loan_grade</th>\n",
       "      <th>loan_amnt</th>\n",
       "      <th>loan_int_rate</th>\n",
       "      <th>loan_status</th>\n",
       "      <th>loan_percent_income</th>\n",
       "      <th>cb_person_default_on_file</th>\n",
       "      <th>cb_person_cred_hist_length</th>\n",
       "    </tr>\n",
       "  </thead>\n",
       "  <tbody>\n",
       "    <tr>\n",
       "      <th>0</th>\n",
       "      <td>22</td>\n",
       "      <td>59000</td>\n",
       "      <td>RENT</td>\n",
       "      <td>123.0</td>\n",
       "      <td>PERSONAL</td>\n",
       "      <td>D</td>\n",
       "      <td>35000</td>\n",
       "      <td>16.02</td>\n",
       "      <td>1</td>\n",
       "      <td>0.59</td>\n",
       "      <td>Y</td>\n",
       "      <td>3</td>\n",
       "    </tr>\n",
       "    <tr>\n",
       "      <th>1</th>\n",
       "      <td>21</td>\n",
       "      <td>9600</td>\n",
       "      <td>OWN</td>\n",
       "      <td>5.0</td>\n",
       "      <td>EDUCATION</td>\n",
       "      <td>B</td>\n",
       "      <td>1000</td>\n",
       "      <td>11.14</td>\n",
       "      <td>0</td>\n",
       "      <td>0.10</td>\n",
       "      <td>N</td>\n",
       "      <td>2</td>\n",
       "    </tr>\n",
       "    <tr>\n",
       "      <th>2</th>\n",
       "      <td>25</td>\n",
       "      <td>9600</td>\n",
       "      <td>MORTGAGE</td>\n",
       "      <td>1.0</td>\n",
       "      <td>MEDICAL</td>\n",
       "      <td>C</td>\n",
       "      <td>5500</td>\n",
       "      <td>12.87</td>\n",
       "      <td>1</td>\n",
       "      <td>0.57</td>\n",
       "      <td>N</td>\n",
       "      <td>3</td>\n",
       "    </tr>\n",
       "    <tr>\n",
       "      <th>3</th>\n",
       "      <td>23</td>\n",
       "      <td>65500</td>\n",
       "      <td>RENT</td>\n",
       "      <td>4.0</td>\n",
       "      <td>MEDICAL</td>\n",
       "      <td>C</td>\n",
       "      <td>35000</td>\n",
       "      <td>15.23</td>\n",
       "      <td>1</td>\n",
       "      <td>0.53</td>\n",
       "      <td>N</td>\n",
       "      <td>2</td>\n",
       "    </tr>\n",
       "    <tr>\n",
       "      <th>4</th>\n",
       "      <td>24</td>\n",
       "      <td>54400</td>\n",
       "      <td>RENT</td>\n",
       "      <td>8.0</td>\n",
       "      <td>MEDICAL</td>\n",
       "      <td>C</td>\n",
       "      <td>35000</td>\n",
       "      <td>14.27</td>\n",
       "      <td>1</td>\n",
       "      <td>0.55</td>\n",
       "      <td>Y</td>\n",
       "      <td>4</td>\n",
       "    </tr>\n",
       "  </tbody>\n",
       "</table>\n",
       "</div>"
      ],
      "text/plain": [
       "   person_age  person_income person_home_ownership  person_emp_length  \\\n",
       "0          22          59000                  RENT              123.0   \n",
       "1          21           9600                   OWN                5.0   \n",
       "2          25           9600              MORTGAGE                1.0   \n",
       "3          23          65500                  RENT                4.0   \n",
       "4          24          54400                  RENT                8.0   \n",
       "\n",
       "  loan_intent loan_grade  loan_amnt  loan_int_rate  loan_status  \\\n",
       "0    PERSONAL          D      35000          16.02            1   \n",
       "1   EDUCATION          B       1000          11.14            0   \n",
       "2     MEDICAL          C       5500          12.87            1   \n",
       "3     MEDICAL          C      35000          15.23            1   \n",
       "4     MEDICAL          C      35000          14.27            1   \n",
       "\n",
       "   loan_percent_income cb_person_default_on_file  cb_person_cred_hist_length  \n",
       "0                 0.59                         Y                           3  \n",
       "1                 0.10                         N                           2  \n",
       "2                 0.57                         N                           3  \n",
       "3                 0.53                         N                           2  \n",
       "4                 0.55                         Y                           4  "
      ]
     },
     "execution_count": 1,
     "metadata": {},
     "output_type": "execute_result"
    }
   ],
   "source": [
    "import pandas as pd \n",
    "\n",
    "def load_data(fname):\n",
    "    \n",
    "    \"\"\"\n",
    "    Ini adalah fungsi untuk membaca data\n",
    "\n",
    "    Parameter\n",
    "    -fname: str\n",
    "    Path yang menunjukkan posisi file\n",
    "\n",
    "    Return\n",
    "    data  : DataFrame \n",
    "    berisi kolom dan baris data\n",
    "    \n",
    "    \"\"\"\n",
    "    \n",
    "    data = pd.read_csv(fname)\n",
    "    print(f\"Data Shape: {data.shape}\")\n",
    "\n",
    "    return data\n",
    "\n",
    "FNAME = './data/raw/credit_risk_dataset.csv'\n",
    "\n",
    "data = load_data(fname = FNAME)\n",
    "\n",
    "data.head()"
   ]
  },
  {
   "cell_type": "code",
   "execution_count": 2,
   "metadata": {},
   "outputs": [
    {
     "name": "stdout",
     "output_type": "stream",
     "text": [
      "Original data shape: (32581, 12)\n",
      "X data shape       : (32581, 11)\n",
      "y data shape       : (32581,)\n"
     ]
    }
   ],
   "source": [
    "def split_input_output(data, target_col):\n",
    "    \n",
    "    \"\"\"\n",
    "    Memisahkan data input menjadi fitur (X) dan target (y).\n",
    "\n",
    "    Parameter\n",
    "    - data       : DataFrame\n",
    "    Data input yang berisi fitur dan target.\n",
    "    \n",
    "    - target_col : string\n",
    "    Nama kolom yang digunakan sebagai variabel target.\n",
    "\n",
    "    Return\n",
    "    - X : DataFrame\n",
    "    Data fitur\n",
    "    \n",
    "    - y : Series\n",
    "    Data target\n",
    "    \n",
    "    \"\"\"\n",
    "        \n",
    "    X = data.drop(target_col, axis = 1)\n",
    "    y = data[target_col]\n",
    "    \n",
    "    print(f'Original data shape: {data.shape}')\n",
    "    print(f'X data shape       : {X.shape}')\n",
    "    print(f'y data shape       : {y.shape}')\n",
    "    \n",
    "    return X, y\n",
    "\n",
    "\n",
    "TARGET_COL = 'loan_status'\n",
    "\n",
    "X, y = split_input_output(data = data, target_col = TARGET_COL)\n"
   ]
  },
  {
   "cell_type": "code",
   "execution_count": 3,
   "metadata": {},
   "outputs": [],
   "source": [
    "from sklearn.model_selection import train_test_split\n",
    "\n",
    "def split_train_test(X, y, test_size, random_state = None):\n",
    "    \n",
    "    \"\"\"\n",
    "    Memisahkan data X dan y menjadi data train dan data test.\n",
    "\n",
    "    Parameter\n",
    "    - X           : DataFrame\n",
    "    Data input yang berisi fitur.\n",
    "    \n",
    "    - y           : Series\n",
    "    Data target yang berisi target.\n",
    "    \n",
    "    - test_size   : float\n",
    "    Besaran proporsi untuk pembagian train dan test\n",
    "    \n",
    "    - random_state: int\n",
    "    Angka acak agar pembagian data konsisten setiap kali fungsi dijalankan.\n",
    "\n",
    "    Return\n",
    "    - X_train, X_test, y_train, y_test : DataFrame\n",
    "    Data train dan test untuk fitur dan target\n",
    "    \n",
    "    \"\"\"\n",
    "        \n",
    "    X_train, X_test, y_train, y_test = train_test_split(X, y, test_size = test_size, random_state = random_state, stratify = y)\n",
    "    print('X train shape:', X_train.shape)\n",
    "    print('X test shape :', X_test.shape)\n",
    "    print('y train shape:', y_train.shape)\n",
    "    print('y test shape :', y_test.shape)\n",
    "\n",
    "    return X_train, X_test, y_train, y_test\n",
    "    \n"
   ]
  },
  {
   "cell_type": "code",
   "execution_count": 4,
   "metadata": {
    "scrolled": true
   },
   "outputs": [
    {
     "name": "stdout",
     "output_type": "stream",
     "text": [
      "X train shape: (26064, 11)\n",
      "X test shape : (6517, 11)\n",
      "y train shape: (26064,)\n",
      "y test shape : (6517,)\n"
     ]
    }
   ],
   "source": [
    "X_train, X_not_train, y_train, y_not_train = split_train_test(X = X, y = y, test_size = 0.2, random_state = 42)\n"
   ]
  },
  {
   "cell_type": "code",
   "execution_count": 5,
   "metadata": {},
   "outputs": [
    {
     "name": "stdout",
     "output_type": "stream",
     "text": [
      "X train shape: (3258, 11)\n",
      "X test shape : (3259, 11)\n",
      "y train shape: (3258,)\n",
      "y test shape : (3259,)\n"
     ]
    }
   ],
   "source": [
    "X_valid, X_test, y_valid, y_test = split_train_test(X = X_not_train, y = y_not_train, test_size = 0.5, random_state = 42)"
   ]
  },
  {
   "cell_type": "code",
   "execution_count": 6,
   "metadata": {},
   "outputs": [],
   "source": [
    "import joblib\n",
    "\n",
    "\n",
    "def serialize_data(data, path): \n",
    "    \n",
    "    \"\"\"\n",
    "    Buat serial data ke penyimpanan yang ditentukan menggunakan joblib.\n",
    "    \n",
    "    Parameter\n",
    "    - data   : DataFrame\n",
    "    Data yang akan diserialkan.\n",
    "    \n",
    "    - path   : str\n",
    "    lokasi tempat data serial akan disimpan.\n",
    "    \n",
    "    Return\n",
    "    - no name: str\n",
    "    lokasi file tempat data diserialkan.\n",
    "    \"\"\"\n",
    "    return joblib.dump(data, path)"
   ]
  },
  {
   "cell_type": "code",
   "execution_count": 7,
   "metadata": {},
   "outputs": [
    {
     "data": {
      "text/plain": [
       "['./data/interim/X_train.pkl']"
      ]
     },
     "execution_count": 7,
     "metadata": {},
     "output_type": "execute_result"
    }
   ],
   "source": [
    "serialize_data(X_train, './data/interim/X_train.pkl')\n"
   ]
  },
  {
   "cell_type": "code",
   "execution_count": 8,
   "metadata": {},
   "outputs": [
    {
     "data": {
      "text/plain": [
       "['./data/interim/y_train.pkl']"
      ]
     },
     "execution_count": 8,
     "metadata": {},
     "output_type": "execute_result"
    }
   ],
   "source": [
    "serialize_data(y_train, './data/interim/y_train.pkl')\n"
   ]
  },
  {
   "cell_type": "code",
   "execution_count": 9,
   "metadata": {},
   "outputs": [
    {
     "data": {
      "text/plain": [
       "['./data/interim/X_test.pkl']"
      ]
     },
     "execution_count": 9,
     "metadata": {},
     "output_type": "execute_result"
    }
   ],
   "source": [
    "serialize_data(X_test, './data/interim/X_test.pkl')\n"
   ]
  },
  {
   "cell_type": "code",
   "execution_count": 10,
   "metadata": {},
   "outputs": [
    {
     "data": {
      "text/plain": [
       "['./data/interim/y_test.pkl']"
      ]
     },
     "execution_count": 10,
     "metadata": {},
     "output_type": "execute_result"
    }
   ],
   "source": [
    "serialize_data(y_test, './data/interim/y_test.pkl')\n"
   ]
  },
  {
   "cell_type": "code",
   "execution_count": 11,
   "metadata": {},
   "outputs": [
    {
     "data": {
      "text/plain": [
       "['./data/interim/X_valid.pkl']"
      ]
     },
     "execution_count": 11,
     "metadata": {},
     "output_type": "execute_result"
    }
   ],
   "source": [
    "serialize_data(X_valid, './data/interim/X_valid.pkl')\n"
   ]
  },
  {
   "cell_type": "code",
   "execution_count": 12,
   "metadata": {
    "scrolled": true
   },
   "outputs": [
    {
     "data": {
      "text/plain": [
       "['./data/interim/y_valid.pkl']"
      ]
     },
     "execution_count": 12,
     "metadata": {},
     "output_type": "execute_result"
    }
   ],
   "source": [
    "serialize_data(y_valid, './data/interim/y_valid.pkl')"
   ]
  },
  {
   "cell_type": "code",
   "execution_count": 13,
   "metadata": {},
   "outputs": [],
   "source": [
    "def deserialize_data(path):\n",
    "    \"\"\"\n",
    "    Deserialisasi data dari lokasi yang ditentukan dengan menggunakan joblib.\n",
    "    \n",
    "    Parameter\n",
    "    path : str\n",
    "    Lokasi data yang akan dideserialisasikan.\n",
    "    \n",
    "    Return\n",
    "    data : DataFrame \n",
    "    Data yang sudah diserialisasikan.\n",
    "    \"\"\"\n",
    "    data = joblib.load(path)\n",
    "    return data"
   ]
  }
 ],
 "metadata": {
  "kernelspec": {
   "display_name": "Python 3 (ipykernel)",
   "language": "python",
   "name": "python3"
  },
  "language_info": {
   "codemirror_mode": {
    "name": "ipython",
    "version": 3
   },
   "file_extension": ".py",
   "mimetype": "text/x-python",
   "name": "python",
   "nbconvert_exporter": "python",
   "pygments_lexer": "ipython3",
   "version": "3.11.5"
  }
 },
 "nbformat": 4,
 "nbformat_minor": 2
}
